{
 "cells": [
  {
   "cell_type": "markdown",
   "metadata": {},
   "source": [
    "# Nature of Code - The coding train\n",
    "\n",
    "## 1: Vectors"
   ]
  },
  {
   "cell_type": "code",
   "execution_count": 1,
   "metadata": {},
   "outputs": [
    {
     "data": {
      "text/html": [
       "<div id=\"glowscript\" class=\"glowscript\"></div>"
      ],
      "text/plain": [
       "<IPython.core.display.HTML object>"
      ]
     },
     "metadata": {},
     "output_type": "display_data"
    },
    {
     "data": {
      "application/javascript": [
       "if (typeof Jupyter !== \"undefined\") { window.__context = { glowscript_container: $(\"#glowscript\").removeAttr(\"id\")};}else{ element.textContent = ' ';}"
      ],
      "text/plain": [
       "<IPython.core.display.Javascript object>"
      ]
     },
     "metadata": {},
     "output_type": "display_data"
    }
   ],
   "source": [
    "from vpython import *"
   ]
  },
  {
   "cell_type": "markdown",
   "metadata": {},
   "source": [
    "###### VPython Vector Class"
   ]
  },
  {
   "cell_type": "code",
   "execution_count": 2,
   "metadata": {},
   "outputs": [
    {
     "name": "stdout",
     "output_type": "stream",
     "text": [
      "v1 + v2 = <5, 7, 9>\n",
      "2*v1 = <2, 4, 6>\n",
      "v1 magnitude: 3.7416573867739413\n"
     ]
    }
   ],
   "source": [
    "v1 = vector(1,2,3)\n",
    "v2 = vector(4,5,6)\n",
    "print('v1 + v2 =', v1+v2)\n",
    "print('2*v1 =', 2*v1)\n",
    "print('v1 magnitude:', mag(v1))"
   ]
  },
  {
   "cell_type": "markdown",
   "metadata": {},
   "source": [
    "###### Examples"
   ]
  },
  {
   "cell_type": "code",
   "execution_count": 3,
   "metadata": {},
   "outputs": [],
   "source": [
    "class Ball():\n",
    "    def __init__(self):\n",
    "        self.velocity = vector(50,50,0)\n",
    "        self.height = 50\n",
    "        self.width = 70\n",
    "        self.pos = vector(0,0,10)\n",
    "        self.display = sphere(pos=self.pos, color=color.red, radius=8)\n",
    "        return\n",
    "    \n",
    "    def move(self, time):\n",
    "        self.pos += self.velocity*time\n",
    "        self.display.pos = self.pos\n",
    "        \n",
    "    def bounce(self):\n",
    "        if self.pos.x > self.width or self.pos.x < -1*self.width:\n",
    "            self.velocity.x *= -1 \n",
    "        if self.pos.y > self.height or self.pos.y < -1*self.height:\n",
    "            self.velocity.y *= -1"
   ]
  },
  {
   "cell_type": "code",
   "execution_count": 6,
   "metadata": {},
   "outputs": [
    {
     "data": {
      "text/html": [
       "<div id=\"glowscript\" class=\"glowscript\"></div>"
      ],
      "text/plain": [
       "<IPython.core.display.HTML object>"
      ]
     },
     "metadata": {},
     "output_type": "display_data"
    },
    {
     "data": {
      "application/javascript": [
       "if (typeof Jupyter !== \"undefined\") { window.__context = { glowscript_container: $(\"#glowscript\").removeAttr(\"id\")};}else{ element.textContent = ' ';}"
      ],
      "text/plain": [
       "<IPython.core.display.Javascript object>"
      ]
     },
     "metadata": {},
     "output_type": "display_data"
    }
   ],
   "source": [
    "canvas(width=600, height=400, center=vector(0,0,0))\n",
    "box(size=vector(156,116,1),color=color.white)\n",
    "box(size=vector(156,1,30),pos=vector(0,-58,5), color=color.white)\n",
    "box(size=vector(156,1,30),pos=vector(0, 58,5), color=color.white)\n",
    "box(size=vector(1,116,30),pos=vector(-78,0,5), color=color.white)\n",
    "box(size=vector(1,116,30),pos=vector( 78,0,5), color=color.white)\n",
    "\n",
    "ball = Ball()\n",
    "time = 0 \n",
    "dt = 0.05\n",
    "\n",
    "while time<10: # seconds\n",
    "    ball.move(dt)\n",
    "    ball.bounce()\n",
    "    time += dt\n",
    "    rate(1/dt)"
   ]
  },
  {
   "cell_type": "code",
   "execution_count": 5,
   "metadata": {},
   "outputs": [
    {
     "data": {
      "text/html": [
       "<div id=\"glowscript\" class=\"glowscript\"></div>"
      ],
      "text/plain": [
       "<IPython.core.display.HTML object>"
      ]
     },
     "metadata": {},
     "output_type": "display_data"
    },
    {
     "data": {
      "application/javascript": [
       "if (typeof Jupyter !== \"undefined\") { window.__context = { glowscript_container: $(\"#glowscript\").removeAttr(\"id\")};}else{ element.textContent = ' ';}"
      ],
      "text/plain": [
       "<IPython.core.display.Javascript object>"
      ]
     },
     "metadata": {},
     "output_type": "display_data"
    }
   ],
   "source": [
    "canvas()\n",
    "floor = box (pos=vector(0,0,0), length=4, height=0.5, width=4, color=color.blue)\n",
    "ball = sphere (pos=vector(0,4,0), radius=1, color=color.red)\n",
    "ball.velocity = vector(0,-1,0)\n",
    "dt = 0.01\n",
    "time = 0\n",
    "\n",
    "while time<15:\n",
    "    time += dt\n",
    "    rate (1/dt)\n",
    "    ball.pos = ball.pos + ball.velocity*dt\n",
    "    if ball.pos.y < ball.radius:\n",
    "        ball.velocity.y = abs(ball.velocity.y)\n",
    "    else:\n",
    "        ball.velocity.y = ball.velocity.y - 9.8*dt"
   ]
  },
  {
   "cell_type": "markdown",
   "metadata": {},
   "source": [
    "#### Mouse Event"
   ]
  },
  {
   "cell_type": "code",
   "execution_count": 42,
   "metadata": {},
   "outputs": [
    {
     "data": {
      "text/html": [
       "<div id=\"glowscript\" class=\"glowscript\"></div>"
      ],
      "text/plain": [
       "<IPython.core.display.HTML object>"
      ]
     },
     "metadata": {},
     "output_type": "display_data"
    },
    {
     "data": {
      "application/javascript": [
       "if (typeof Jupyter !== \"undefined\") { window.__context = { glowscript_container: $(\"#glowscript\").removeAttr(\"id\")};}else{ element.textContent = ' ';}"
      ],
      "text/plain": [
       "<IPython.core.display.Javascript object>"
      ]
     },
     "metadata": {},
     "output_type": "display_data"
    },
    {
     "name": "stdout",
     "output_type": "stream",
     "text": [
      "<1.11083, 0.161563, 0>>0>>\r"
     ]
    }
   ],
   "source": [
    "scene = canvas()\n",
    "mouse = scene.mouse\n",
    "\n",
    "c = curve(vector(0,0,0), vector(0,1,0))\n",
    "\n",
    "while True:\n",
    "    ev = scene.waitfor('mousemove mouseleave')\n",
    "    if ev.event == 'mouseleave':\n",
    "        break\n",
    "    c.modify(1, ev.pos)\n",
    "    print(ev.pos,end='\\r')\n",
    "    \n",
    "\n",
    "    "
   ]
  }
 ],
 "metadata": {
  "kernelspec": {
   "display_name": "Python 3",
   "language": "python",
   "name": "python3"
  },
  "language_info": {
   "codemirror_mode": {
    "name": "ipython",
    "version": 3
   },
   "file_extension": ".py",
   "mimetype": "text/x-python",
   "name": "python",
   "nbconvert_exporter": "python",
   "pygments_lexer": "ipython3",
   "version": "3.7.7"
  }
 },
 "nbformat": 4,
 "nbformat_minor": 4
}
