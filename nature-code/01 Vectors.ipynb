{
 "cells": [
  {
   "cell_type": "markdown",
   "metadata": {},
   "source": [
    "# Nature of Code - The coding train\n",
    "\n",
    "## 1: Vectors\n",
    "\n",
    "Based on the lessons by Daniel Shiffman, available at:\n",
    "\n",
    "https://www.youtube.com/watch?v=mWJkvxQXIa8&list=PLRqwX-V7Uu6ZwSmtE13iJBcoI-r4y7iEc"
   ]
  },
  {
   "cell_type": "code",
   "execution_count": 1,
   "metadata": {},
   "outputs": [
    {
     "data": {
      "text/html": [
       "<div id=\"glowscript\" class=\"glowscript\"></div>"
      ],
      "text/plain": [
       "<IPython.core.display.HTML object>"
      ]
     },
     "metadata": {},
     "output_type": "display_data"
    },
    {
     "data": {
      "application/javascript": [
       "if (typeof Jupyter !== \"undefined\") { window.__context = { glowscript_container: $(\"#glowscript\").removeAttr(\"id\")};}else{ element.textContent = ' ';}"
      ],
      "text/plain": [
       "<IPython.core.display.Javascript object>"
      ]
     },
     "metadata": {},
     "output_type": "display_data"
    }
   ],
   "source": [
    "from vpython import *\n",
    "from random import *"
   ]
  },
  {
   "cell_type": "markdown",
   "metadata": {},
   "source": [
    "###### VPython Vector Class"
   ]
  },
  {
   "cell_type": "code",
   "execution_count": 2,
   "metadata": {},
   "outputs": [
    {
     "name": "stdout",
     "output_type": "stream",
     "text": [
      "v1 + v2 = <5, 7, 9>\n",
      "2*v1 = <2, 4, 6>\n",
      "v1 magnitude: 3.7416573867739413\n"
     ]
    }
   ],
   "source": [
    "v1 = vector(1,2,3)\n",
    "v2 = vector(4,5,6)\n",
    "print('v1 + v2 =', v1+v2)\n",
    "print('2*v1 =', 2*v1)\n",
    "print('v1 magnitude:', mag(v1))"
   ]
  },
  {
   "cell_type": "markdown",
   "metadata": {},
   "source": [
    "###### Examples"
   ]
  },
  {
   "cell_type": "code",
   "execution_count": 3,
   "metadata": {},
   "outputs": [],
   "source": [
    "class Ball():\n",
    "    def __init__(self):\n",
    "        self.velocity = vector(50,50,0)\n",
    "        self.height = 50\n",
    "        self.width = 70\n",
    "        self.pos = vector(0,0,10)\n",
    "        self.display = sphere(pos=self.pos, color=color.red, radius=8)\n",
    "        return\n",
    "    \n",
    "    def move(self, time):\n",
    "        self.pos += self.velocity*time\n",
    "        self.display.pos = self.pos\n",
    "        \n",
    "    def bounce(self):\n",
    "        if self.pos.x > self.width or self.pos.x < -1*self.width:\n",
    "            self.velocity.x *= -1 \n",
    "        if self.pos.y > self.height or self.pos.y < -1*self.height:\n",
    "            self.velocity.y *= -1"
   ]
  },
  {
   "cell_type": "code",
   "execution_count": 4,
   "metadata": {},
   "outputs": [
    {
     "data": {
      "text/html": [
       "<div id=\"glowscript\" class=\"glowscript\"></div>"
      ],
      "text/plain": [
       "<IPython.core.display.HTML object>"
      ]
     },
     "metadata": {},
     "output_type": "display_data"
    },
    {
     "data": {
      "application/javascript": [
       "if (typeof Jupyter !== \"undefined\") { window.__context = { glowscript_container: $(\"#glowscript\").removeAttr(\"id\")};}else{ element.textContent = ' ';}"
      ],
      "text/plain": [
       "<IPython.core.display.Javascript object>"
      ]
     },
     "metadata": {},
     "output_type": "display_data"
    },
    {
     "data": {
      "application/javascript": [
       "if (typeof Jupyter !== \"undefined\") {require.undef(\"nbextensions/vpython_libraries/glow.min\");}else{element.textContent = ' ';}"
      ],
      "text/plain": [
       "<IPython.core.display.Javascript object>"
      ]
     },
     "metadata": {},
     "output_type": "display_data"
    },
    {
     "data": {
      "application/javascript": [
       "if (typeof Jupyter !== \"undefined\") {require.undef(\"nbextensions/vpython_libraries/glowcomm\");}else{element.textContent = ' ';}"
      ],
      "text/plain": [
       "<IPython.core.display.Javascript object>"
      ]
     },
     "metadata": {},
     "output_type": "display_data"
    },
    {
     "data": {
      "application/javascript": [
       "if (typeof Jupyter !== \"undefined\") {require.undef(\"nbextensions/vpython_libraries/jquery-ui.custom.min\");}else{element.textContent = ' ';}"
      ],
      "text/plain": [
       "<IPython.core.display.Javascript object>"
      ]
     },
     "metadata": {},
     "output_type": "display_data"
    },
    {
     "data": {
      "application/javascript": [
       "if (typeof Jupyter !== \"undefined\") {require([\"nbextensions/vpython_libraries/glow.min\"], function(){console.log(\"GLOW LOADED\");});}else{element.textContent = ' ';}"
      ],
      "text/plain": [
       "<IPython.core.display.Javascript object>"
      ]
     },
     "metadata": {},
     "output_type": "display_data"
    },
    {
     "data": {
      "application/javascript": [
       "if (typeof Jupyter !== \"undefined\") {require([\"nbextensions/vpython_libraries/glowcomm\"], function(){console.log(\"GLOWCOMM LOADED\");});}else{element.textContent = ' ';}"
      ],
      "text/plain": [
       "<IPython.core.display.Javascript object>"
      ]
     },
     "metadata": {},
     "output_type": "display_data"
    },
    {
     "data": {
      "application/javascript": [
       "if (typeof Jupyter !== \"undefined\") {require([\"nbextensions/vpython_libraries/jquery-ui.custom.min\"], function(){console.log(\"JQUERY LOADED\");});}else{element.textContent = ' ';}"
      ],
      "text/plain": [
       "<IPython.core.display.Javascript object>"
      ]
     },
     "metadata": {},
     "output_type": "display_data"
    }
   ],
   "source": [
    "canvas(width=600, height=400, center=vector(0,0,0))\n",
    "box(size=vector(156,116,1),color=color.white)\n",
    "box(size=vector(156,1,30),pos=vector(0,-58,5), color=color.white)\n",
    "box(size=vector(156,1,30),pos=vector(0, 58,5), color=color.white)\n",
    "box(size=vector(1,116,30),pos=vector(-78,0,5), color=color.white)\n",
    "box(size=vector(1,116,30),pos=vector( 78,0,5), color=color.white)\n",
    "\n",
    "ball = Ball()\n",
    "time = 0 \n",
    "dt = 0.05\n",
    "\n",
    "while time<10: # seconds\n",
    "    ball.move(dt)\n",
    "    ball.bounce()\n",
    "    time += dt\n",
    "    rate(1/dt)"
   ]
  },
  {
   "cell_type": "code",
   "execution_count": 5,
   "metadata": {},
   "outputs": [
    {
     "data": {
      "text/html": [
       "<div id=\"glowscript\" class=\"glowscript\"></div>"
      ],
      "text/plain": [
       "<IPython.core.display.HTML object>"
      ]
     },
     "metadata": {},
     "output_type": "display_data"
    },
    {
     "data": {
      "application/javascript": [
       "if (typeof Jupyter !== \"undefined\") { window.__context = { glowscript_container: $(\"#glowscript\").removeAttr(\"id\")};}else{ element.textContent = ' ';}"
      ],
      "text/plain": [
       "<IPython.core.display.Javascript object>"
      ]
     },
     "metadata": {},
     "output_type": "display_data"
    }
   ],
   "source": [
    "canvas()\n",
    "floor = box (pos=vector(0,0,0), length=4, height=0.5, width=4, color=color.blue)\n",
    "ball = sphere (pos=vector(0,4,0), radius=1, color=color.red)\n",
    "ball.velocity = vector(0,-1,0)\n",
    "dt = 0.01\n",
    "time = 0\n",
    "\n",
    "while time<15:\n",
    "    time += dt\n",
    "    rate (1/dt)\n",
    "    ball.pos = ball.pos + ball.velocity*dt\n",
    "    if ball.pos.y < ball.radius:\n",
    "        ball.velocity.y = abs(ball.velocity.y)\n",
    "    else:\n",
    "        ball.velocity.y = ball.velocity.y - 9.8*dt"
   ]
  },
  {
   "cell_type": "markdown",
   "metadata": {},
   "source": [
    "#### Mouse Event"
   ]
  },
  {
   "cell_type": "code",
   "execution_count": 6,
   "metadata": {},
   "outputs": [
    {
     "data": {
      "text/html": [
       "<div id=\"glowscript\" class=\"glowscript\"></div>"
      ],
      "text/plain": [
       "<IPython.core.display.HTML object>"
      ]
     },
     "metadata": {},
     "output_type": "display_data"
    },
    {
     "data": {
      "application/javascript": [
       "if (typeof Jupyter !== \"undefined\") { window.__context = { glowscript_container: $(\"#glowscript\").removeAttr(\"id\")};}else{ element.textContent = ' ';}"
      ],
      "text/plain": [
       "<IPython.core.display.Javascript object>"
      ]
     },
     "metadata": {},
     "output_type": "display_data"
    },
    {
     "name": "stdout",
     "output_type": "stream",
     "text": [
      "<0.549828, -0.0364375, 0>>\r"
     ]
    }
   ],
   "source": [
    "scene = canvas()\n",
    "mouse = scene.mouse\n",
    "\n",
    "c = curve(vector(0,0,0), vector(0,1,0))\n",
    "\n",
    "while True:\n",
    "    ev = scene.waitfor('mousemove mouseleave')\n",
    "    if ev.event == 'mouseleave':\n",
    "        break\n",
    "    c.modify(1, ev.pos)\n",
    "    print(ev.pos,end='\\r')\n",
    "\n",
    "    "
   ]
  },
  {
   "cell_type": "markdown",
   "metadata": {},
   "source": [
    "#### Acceleration\n",
    "\n",
    "I'll repeat the code from the ball example to be more clear, but this time I'll call it mover:"
   ]
  },
  {
   "cell_type": "code",
   "execution_count": 19,
   "metadata": {},
   "outputs": [],
   "source": [
    "class Mover():\n",
    "    def __init__(self):\n",
    "        self.velocity = vector(0,0,0)\n",
    "        self.acceleration = vector(10,20,0)\n",
    "        self.height = 50\n",
    "        self.width = 70\n",
    "        self.pos = vector(0,0,10)\n",
    "        self.display = sphere(pos=self.pos, color=color.red, radius=8)\n",
    "        return\n",
    "    \n",
    "    def move(self, time):\n",
    "        self.acceleration = vector(randint(-80,80), randint(-50,50),0)\n",
    "        self.velocity += self.acceleration*time\n",
    "        self.pos += self.velocity*time\n",
    "        self.display.pos = self.pos\n",
    "        \n",
    "    def bounce(self):\n",
    "        if self.pos.x > self.width or self.pos.x < -1*self.width:\n",
    "            self.velocity.x *= -1 \n",
    "        if self.pos.y > self.height or self.pos.y < -1*self.height:\n",
    "            self.velocity.y *= -1"
   ]
  },
  {
   "cell_type": "code",
   "execution_count": 21,
   "metadata": {},
   "outputs": [
    {
     "data": {
      "text/html": [
       "<div id=\"glowscript\" class=\"glowscript\"></div>"
      ],
      "text/plain": [
       "<IPython.core.display.HTML object>"
      ]
     },
     "metadata": {},
     "output_type": "display_data"
    },
    {
     "data": {
      "application/javascript": [
       "if (typeof Jupyter !== \"undefined\") { window.__context = { glowscript_container: $(\"#glowscript\").removeAttr(\"id\")};}else{ element.textContent = ' ';}"
      ],
      "text/plain": [
       "<IPython.core.display.Javascript object>"
      ]
     },
     "metadata": {},
     "output_type": "display_data"
    }
   ],
   "source": [
    "canvas(width=600, height=400, center=vector(0,0,0))\n",
    "box(size=vector(156,116,1),color=color.white)\n",
    "box(size=vector(156,1,30),pos=vector(0,-58,5), color=color.white)\n",
    "box(size=vector(156,1,30),pos=vector(0, 58,5), color=color.white)\n",
    "box(size=vector(1,116,30),pos=vector(-78,0,5), color=color.white)\n",
    "box(size=vector(1,116,30),pos=vector( 78,0,5), color=color.white)\n",
    "\n",
    "ball = Mover()\n",
    "time = 0 \n",
    "dt = 0.05\n",
    "\n",
    "while time<100: # seconds\n",
    "    ball.move(dt)\n",
    "    ball.bounce()\n",
    "    time += dt\n",
    "    rate(1/dt)"
   ]
  },
  {
   "cell_type": "markdown",
   "metadata": {},
   "source": [
    "#### With cursor\n",
    "\n",
    "As with the previous example, I'll repeat the code changing the class's name:"
   ]
  },
  {
   "cell_type": "code",
   "execution_count": 22,
   "metadata": {},
   "outputs": [],
   "source": [
    "class Atractor():\n",
    "    def __init__(self):\n",
    "        self.velocity = vector(0,0,0)\n",
    "        self.acceleration = vector(10,20,0)\n",
    "        self.height = 50\n",
    "        self.width = 70\n",
    "        self.pos = vector(0,0,8)\n",
    "        self.center = vector(0,0,8)\n",
    "        self.display = sphere(pos=self.pos, color=color.red, radius=8)\n",
    "        return\n",
    "    \n",
    "    def move(self, time):\n",
    "        self.acceleration = (self.center - self.pos)*10\n",
    "        self.velocity += self.acceleration*time\n",
    "        self.pos += self.velocity*time\n",
    "        self.display.pos = self.pos\n",
    "        \n",
    "    def bounce(self):\n",
    "        if self.pos.x > self.width or self.pos.x < -1*self.width:\n",
    "            self.velocity.x *= -1 \n",
    "        if self.pos.y > self.height or self.pos.y < -1*self.height:\n",
    "            self.velocity.y *= -1\n",
    "   \n"
   ]
  },
  {
   "cell_type": "code",
   "execution_count": null,
   "metadata": {},
   "outputs": [
    {
     "data": {
      "text/html": [
       "<div id=\"glowscript\" class=\"glowscript\"></div>"
      ],
      "text/plain": [
       "<IPython.core.display.HTML object>"
      ]
     },
     "metadata": {},
     "output_type": "display_data"
    },
    {
     "data": {
      "application/javascript": [
       "if (typeof Jupyter !== \"undefined\") { window.__context = { glowscript_container: $(\"#glowscript\").removeAttr(\"id\")};}else{ element.textContent = ' ';}"
      ],
      "text/plain": [
       "<IPython.core.display.Javascript object>"
      ]
     },
     "metadata": {},
     "output_type": "display_data"
    }
   ],
   "source": [
    "scene = canvas(width=600, height=400, center=vector(0,0,0))\n",
    "box(size=vector(156,116,1),color=color.white)\n",
    "box(size=vector(156,1,30),pos=vector(0,-58,5), color=color.white)\n",
    "box(size=vector(156,1,30),pos=vector(0, 58,5), color=color.white)\n",
    "box(size=vector(1,116,30),pos=vector(-78,0,5), color=color.white)\n",
    "box(size=vector(1,116,30),pos=vector( 78,0,5), color=color.white)\n",
    "\n",
    "mouse = scene.mouse\n",
    "c = curve(vector(0,0,8), vector(0,0,8), color=color.red)\n",
    "\n",
    "ball = Atractor()\n",
    "pointer = arrow(pos=ball.pos, axis=ball.center, shaftwidth=1, color=color.blue)\n",
    "\n",
    "time = 0 \n",
    "dt = 0.05\n",
    "\n",
    "'''while time<100: # seconds\n",
    "    ev = scene.waitfor('mousemove mouseleave')\n",
    "    ball.move(dt, ev)\n",
    "    ball.bounce()\n",
    "    time += dt\n",
    "    rate(1/dt)\n",
    "    scene = canvas()\n",
    "mouse = scene.mouse\n",
    "    '''\n",
    "    \n",
    "                \n",
    "while True:\n",
    "    ev = scene.waitfor('mousemove mouseleave')\n",
    "    if ev.event == 'mouseleave':\n",
    "        break\n",
    "    ball.center = vector(ev.pos.x, ev.pos.y, 8)\n",
    "    \n",
    "    '''c.modify(0, ball.pos)\n",
    "    c.modify(1, ball.center)'''\n",
    "    \n",
    "    pointer.pos=ball.pos\n",
    "    pointer.axis=ball.center\n",
    "    \n",
    "    ball.move(dt)\n",
    "    ball.bounce()\n",
    "    time += dt\n",
    "    rate(1/dt)\n",
    "    "
   ]
  },
  {
   "cell_type": "code",
   "execution_count": 50,
   "metadata": {},
   "outputs": [
    {
     "data": {
      "text/html": [
       "<div id=\"glowscript\" class=\"glowscript\"></div>"
      ],
      "text/plain": [
       "<IPython.core.display.HTML object>"
      ]
     },
     "metadata": {},
     "output_type": "display_data"
    },
    {
     "data": {
      "application/javascript": [
       "if (typeof Jupyter !== \"undefined\") { window.__context = { glowscript_container: $(\"#glowscript\").removeAttr(\"id\")};}else{ element.textContent = ' ';}"
      ],
      "text/plain": [
       "<IPython.core.display.Javascript object>"
      ]
     },
     "metadata": {},
     "output_type": "display_data"
    },
    {
     "ename": "AttributeError",
     "evalue": "'Mouse' object has no attribute 'event'",
     "output_type": "error",
     "traceback": [
      "\u001b[1;31m---------------------------------------------------------------------------\u001b[0m",
      "\u001b[1;31mAttributeError\u001b[0m                            Traceback (most recent call last)",
      "\u001b[1;32m<ipython-input-50-1f3f3ab9193d>\u001b[0m in \u001b[0;36m<module>\u001b[1;34m\u001b[0m\n\u001b[0;32m      6\u001b[0m     \u001b[0mloc\u001b[0m \u001b[1;33m=\u001b[0m \u001b[0mevt\u001b[0m\u001b[1;33m.\u001b[0m\u001b[0mpos\u001b[0m\u001b[1;33m\u001b[0m\u001b[1;33m\u001b[0m\u001b[0m\n\u001b[0;32m      7\u001b[0m     \u001b[0msphere\u001b[0m\u001b[1;33m(\u001b[0m\u001b[0mpos\u001b[0m\u001b[1;33m=\u001b[0m\u001b[0mloc\u001b[0m\u001b[1;33m,\u001b[0m \u001b[0mradius\u001b[0m\u001b[1;33m=\u001b[0m\u001b[1;36m0.2\u001b[0m\u001b[1;33m,\u001b[0m \u001b[0mcolor\u001b[0m\u001b[1;33m=\u001b[0m\u001b[0mcolor\u001b[0m\u001b[1;33m.\u001b[0m\u001b[0mcyan\u001b[0m\u001b[1;33m)\u001b[0m\u001b[1;33m\u001b[0m\u001b[1;33m\u001b[0m\u001b[0m\n\u001b[1;32m----> 8\u001b[1;33m \u001b[0mprint\u001b[0m\u001b[1;33m(\u001b[0m\u001b[0mmouse\u001b[0m\u001b[1;33m.\u001b[0m\u001b[0mevent\u001b[0m\u001b[1;33m)\u001b[0m\u001b[1;33m\u001b[0m\u001b[1;33m\u001b[0m\u001b[0m\n\u001b[0m",
      "\u001b[1;31mAttributeError\u001b[0m: 'Mouse' object has no attribute 'event'"
     ]
    }
   ],
   "source": [
    "scene = canvas()\n",
    "scene.range = 4\n",
    "box() # display a box for context\n",
    "\n",
    "def showSphere(evt):\n",
    "    loc = evt.pos\n",
    "    sphere(pos=loc, radius=0.2, color=color.cyan)\n",
    "\n",
    "scene.bind('click', showSphere)"
   ]
  }
 ],
 "metadata": {
  "kernelspec": {
   "display_name": "Python 3",
   "language": "python",
   "name": "python3"
  },
  "language_info": {
   "codemirror_mode": {
    "name": "ipython",
    "version": 3
   },
   "file_extension": ".py",
   "mimetype": "text/x-python",
   "name": "python",
   "nbconvert_exporter": "python",
   "pygments_lexer": "ipython3",
   "version": "3.7.7"
  }
 },
 "nbformat": 4,
 "nbformat_minor": 4
}
