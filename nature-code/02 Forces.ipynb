{
 "cells": [
  {
   "cell_type": "markdown",
   "metadata": {},
   "source": [
    "# Nature of Code - The coding train\n",
    "\n",
    "## 2: Forces\n",
    "\n",
    "Based on the lessons by Daniel Shiffman, available at:\n",
    "\n",
    "https://www.youtube.com/watch?v=II1A3bBo6gM&list=PLRqwX-V7Uu6ZRrqLcQ5BkBKmBLiGD8n4O"
   ]
  },
  {
   "cell_type": "code",
   "execution_count": 1,
   "metadata": {},
   "outputs": [
    {
     "data": {
      "text/html": [
       "<div id=\"glowscript\" class=\"glowscript\"></div>"
      ],
      "text/plain": [
       "<IPython.core.display.HTML object>"
      ]
     },
     "metadata": {},
     "output_type": "display_data"
    },
    {
     "data": {
      "application/javascript": [
       "if (typeof Jupyter !== \"undefined\") { window.__context = { glowscript_container: $(\"#glowscript\").removeAttr(\"id\")};}else{ element.textContent = ' ';}"
      ],
      "text/plain": [
       "<IPython.core.display.Javascript object>"
      ]
     },
     "metadata": {},
     "output_type": "display_data"
    }
   ],
   "source": [
    "from vpython import *"
   ]
  },
  {
   "cell_type": "markdown",
   "metadata": {},
   "source": [
    "### Applying Forces\n",
    "\n",
    "Gravity example (with mass)"
   ]
  },
  {
   "cell_type": "code",
   "execution_count": 2,
   "metadata": {},
   "outputs": [],
   "source": [
    "class Mover:\n",
    "    def __init__(self):\n",
    "        self.pos = vector(0,8,0)\n",
    "        self.velocity = vector(0,0,0)\n",
    "        self.acceleration = vector(0,0,0)\n",
    "        self.mass = 1\n",
    "        \n",
    "        self.display = sphere(pos=self.pos, color=color.red, radius=1)\n",
    "    \n",
    "    def move(self, t):\n",
    "        self.velocity += self.acceleration * t\n",
    "        self.pos += self.velocity * t\n",
    "        self.display.pos = self.pos\n",
    "        self.acceleration = vector(0,0,0)\n",
    "        \n",
    "    def force(self, force):\n",
    "        self.acceleration = force/self.mass\n",
    "        \n",
    "    def bounce(self):\n",
    "        if self.pos.y <= self.display.radius + 0.25 and self.velocity.y < 0:\n",
    "            self.velocity.y = abs(self.velocity.y) * 0.8\n",
    "            self.pos.y = self.display.radius + 0.25"
   ]
  },
  {
   "cell_type": "code",
   "execution_count": 3,
   "metadata": {},
   "outputs": [
    {
     "data": {
      "text/html": [
       "<div id=\"glowscript\" class=\"glowscript\"></div>"
      ],
      "text/plain": [
       "<IPython.core.display.HTML object>"
      ]
     },
     "metadata": {},
     "output_type": "display_data"
    },
    {
     "data": {
      "application/javascript": [
       "if (typeof Jupyter !== \"undefined\") { window.__context = { glowscript_container: $(\"#glowscript\").removeAttr(\"id\")};}else{ element.textContent = ' ';}"
      ],
      "text/plain": [
       "<IPython.core.display.Javascript object>"
      ]
     },
     "metadata": {},
     "output_type": "display_data"
    },
    {
     "data": {
      "application/javascript": [
       "if (typeof Jupyter !== \"undefined\") {require.undef(\"nbextensions/vpython_libraries/glow.min\");}else{element.textContent = ' ';}"
      ],
      "text/plain": [
       "<IPython.core.display.Javascript object>"
      ]
     },
     "metadata": {},
     "output_type": "display_data"
    },
    {
     "data": {
      "application/javascript": [
       "if (typeof Jupyter !== \"undefined\") {require.undef(\"nbextensions/vpython_libraries/glowcomm\");}else{element.textContent = ' ';}"
      ],
      "text/plain": [
       "<IPython.core.display.Javascript object>"
      ]
     },
     "metadata": {},
     "output_type": "display_data"
    },
    {
     "data": {
      "application/javascript": [
       "if (typeof Jupyter !== \"undefined\") {require.undef(\"nbextensions/vpython_libraries/jquery-ui.custom.min\");}else{element.textContent = ' ';}"
      ],
      "text/plain": [
       "<IPython.core.display.Javascript object>"
      ]
     },
     "metadata": {},
     "output_type": "display_data"
    },
    {
     "data": {
      "application/javascript": [
       "if (typeof Jupyter !== \"undefined\") {require([\"nbextensions/vpython_libraries/glow.min\"], function(){console.log(\"GLOW LOADED\");});}else{element.textContent = ' ';}"
      ],
      "text/plain": [
       "<IPython.core.display.Javascript object>"
      ]
     },
     "metadata": {},
     "output_type": "display_data"
    },
    {
     "data": {
      "application/javascript": [
       "if (typeof Jupyter !== \"undefined\") {require([\"nbextensions/vpython_libraries/glowcomm\"], function(){console.log(\"GLOWCOMM LOADED\");});}else{element.textContent = ' ';}"
      ],
      "text/plain": [
       "<IPython.core.display.Javascript object>"
      ]
     },
     "metadata": {},
     "output_type": "display_data"
    },
    {
     "data": {
      "application/javascript": [
       "if (typeof Jupyter !== \"undefined\") {require([\"nbextensions/vpython_libraries/jquery-ui.custom.min\"], function(){console.log(\"JQUERY LOADED\");});}else{element.textContent = ' ';}"
      ],
      "text/plain": [
       "<IPython.core.display.Javascript object>"
      ]
     },
     "metadata": {},
     "output_type": "display_data"
    },
    {
     "name": "stdout",
     "output_type": "stream",
     "text": [
      "<0, 1.24511, 0>\r"
     ]
    }
   ],
   "source": [
    "scene = canvas()\n",
    "floor = box(size=vector(3,0.5,3), color=color.blue)\n",
    "ball = Mover()\n",
    "\n",
    "time = 0\n",
    "dt = 0.03\n",
    "\n",
    "g = vector(0, -9.78, 0)\n",
    "weight = g * ball.mass\n",
    "\n",
    "while time<10:\n",
    "    ball.force(weight)\n",
    "    ball.bounce()\n",
    "    ball.move(dt)\n",
    "    rate(1/dt)\n",
    "    print(ball.pos, end='\\r')\n",
    "    time += dt\n"
   ]
  },
  {
   "cell_type": "code",
   "execution_count": 13,
   "metadata": {},
   "outputs": [],
   "source": [
    "class caixa(box):\n",
    "    def __init__(self):\n",
    "        self.mass = 1\n",
    "        self.velocity = vector(0,0,0)\n",
    "        self.acceleration = vector(0,0,0)\n",
    "        \n",
    "        self.display = box(pos=vector(-10,8,1), color=color.orange)\n",
    "        self.display.rotate(angle=-pi/2 + atan(20/16), axis=vector(0,0,2))\n",
    "        self.display.pos += self.display.up/2 +self.display.axis\n",
    "        self.posi = self.display.pos\n",
    "        \n",
    "    def move(self, t):\n",
    "        self.velocity +=  self.acceleration * t\n",
    "        self.display.pos += self.velocity * t\n",
    "        self.posi = self.display.pos\n",
    "        self.acceleration = vector(0,0,0)\n",
    "        \n",
    "    def push(self, force):\n",
    "        self.acceleration += force/self.mass"
   ]
  },
  {
   "cell_type": "code",
   "execution_count": 18,
   "metadata": {},
   "outputs": [
    {
     "data": {
      "text/html": [
       "<div id=\"glowscript\" class=\"glowscript\"></div>"
      ],
      "text/plain": [
       "<IPython.core.display.HTML object>"
      ]
     },
     "metadata": {},
     "output_type": "display_data"
    },
    {
     "data": {
      "application/javascript": [
       "if (typeof Jupyter !== \"undefined\") { window.__context = { glowscript_container: $(\"#glowscript\").removeAttr(\"id\")};}else{ element.textContent = ' ';}"
      ],
      "text/plain": [
       "<IPython.core.display.Javascript object>"
      ]
     },
     "metadata": {},
     "output_type": "display_data"
    }
   ],
   "source": [
    "scene2 = canvas()\n",
    "\n",
    "ramp2d = [[-10, -8], [10, -8], [10, 8], [-10, -8]]\n",
    "ramp_path = [vector(0,0,0), vector(0,0,2)]\n",
    "ramp = extrusion(path=ramp_path, shape=ramp2d, color=color.magenta, opacity=0.5)\n",
    "\n",
    "b = caixa()\n",
    "\n",
    "time = 0\n",
    "dt = 0.02\n",
    "\n",
    "weight = b.mass * vector(0,-9.78,0)\n",
    "weight_arrow = arrow(pos=b.display.pos, axis=weight.norm()*2, color=color.blue)\n",
    "\n",
    "parallel = vector(10,-8,0)-vector(-10,8,0)\n",
    "#parallel_arrow = arrow(pos=b.display.pos, axis=parallel.norm())\n",
    "\n",
    "weight_x = weight.proj(parallel)\n",
    "normal = (weight - weight_x) * -1\n",
    "normal_arrow = arrow(pos=b.display.pos, axis=normal.norm()*2, color=color.green)\n",
    "\n",
    "while time < 1:\n",
    "    rate(1/dt)\n",
    "    time += dt\n",
    "    \n",
    "weight_arrow.visible=False\n",
    "normal_arrow.visible=False\n",
    "\n",
    "\n",
    "while b.posi.y > -8:\n",
    "    b.push(weight)\n",
    "    b.push(normal)\n",
    "    b.move(dt)\n",
    "    time += dt\n",
    "    rate(1/dt)\n",
    "\n",
    "\n"
   ]
  },
  {
   "cell_type": "code",
   "execution_count": 66,
   "metadata": {},
   "outputs": [
    {
     "data": {
      "text/html": [
       "<div id=\"glowscript\" class=\"glowscript\"></div>"
      ],
      "text/plain": [
       "<IPython.core.display.HTML object>"
      ]
     },
     "metadata": {},
     "output_type": "display_data"
    },
    {
     "data": {
      "application/javascript": [
       "if (typeof Jupyter !== \"undefined\") { window.__context = { glowscript_container: $(\"#glowscript\").removeAttr(\"id\")};}else{ element.textContent = ' ';}"
      ],
      "text/plain": [
       "<IPython.core.display.Javascript object>"
      ]
     },
     "metadata": {},
     "output_type": "display_data"
    }
   ],
   "source": [
    "canvas()\n",
    "caixa()"
   ]
  }
 ],
 "metadata": {
  "kernelspec": {
   "display_name": "Python 3",
   "language": "python",
   "name": "python3"
  },
  "language_info": {
   "codemirror_mode": {
    "name": "ipython",
    "version": 3
   },
   "file_extension": ".py",
   "mimetype": "text/x-python",
   "name": "python",
   "nbconvert_exporter": "python",
   "pygments_lexer": "ipython3",
   "version": "3.7.7"
  }
 },
 "nbformat": 4,
 "nbformat_minor": 4
}
