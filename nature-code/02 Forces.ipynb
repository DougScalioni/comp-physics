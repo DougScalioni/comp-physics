{
 "cells": [
  {
   "cell_type": "markdown",
   "metadata": {},
   "source": [
    "# Nature of Code - The coding train\n",
    "\n",
    "## 1: Forces\n",
    "\n",
    "Based on the lessons by Daniel Shiffman, available at:\n",
    "\n",
    "https://www.youtube.com/watch?v=II1A3bBo6gM&list=PLRqwX-V7Uu6ZRrqLcQ5BkBKmBLiGD8n4O"
   ]
  },
  {
   "cell_type": "code",
   "execution_count": 1,
   "metadata": {},
   "outputs": [
    {
     "data": {
      "text/html": [
       "<div id=\"glowscript\" class=\"glowscript\"></div>"
      ],
      "text/plain": [
       "<IPython.core.display.HTML object>"
      ]
     },
     "metadata": {},
     "output_type": "display_data"
    },
    {
     "data": {
      "application/javascript": [
       "if (typeof Jupyter !== \"undefined\") { window.__context = { glowscript_container: $(\"#glowscript\").removeAttr(\"id\")};}else{ element.textContent = ' ';}"
      ],
      "text/plain": [
       "<IPython.core.display.Javascript object>"
      ]
     },
     "metadata": {},
     "output_type": "display_data"
    }
   ],
   "source": [
    "from vpython import *"
   ]
  },
  {
   "cell_type": "code",
   "execution_count": 73,
   "metadata": {},
   "outputs": [],
   "source": [
    "class Mover:\n",
    "    def __init__(self):\n",
    "        self.pos = vector(0,8,0)\n",
    "        self.velocity = vector(0,0,0)\n",
    "        self.acceleration = vector(0,0,0)\n",
    "        self.mass = 1\n",
    "        \n",
    "        self.display = sphere(pos=self.pos, color=color.red, radius=1)\n",
    "    \n",
    "    def move(self, t):\n",
    "        self.velocity += self.acceleration * t\n",
    "        self.pos += self.velocity * t\n",
    "        self.display.pos = self.pos\n",
    "        self.acceleration = vector(0,0,0)\n",
    "        \n",
    "    def force(self, force):\n",
    "        self.acceleration = force/self.mass\n",
    "        \n",
    "    def bounce(self):\n",
    "        if self.pos.y <= self.display.radius + 0.25 and self.velocity.y < 0:\n",
    "            self.velocity.y = abs(self.velocity.y) * 0.8\n",
    "            self.pos.y = self.display.radius + 0.25"
   ]
  },
  {
   "cell_type": "code",
   "execution_count": 79,
   "metadata": {},
   "outputs": [
    {
     "data": {
      "text/html": [
       "<div id=\"glowscript\" class=\"glowscript\"></div>"
      ],
      "text/plain": [
       "<IPython.core.display.HTML object>"
      ]
     },
     "metadata": {},
     "output_type": "display_data"
    },
    {
     "data": {
      "application/javascript": [
       "if (typeof Jupyter !== \"undefined\") { window.__context = { glowscript_container: $(\"#glowscript\").removeAttr(\"id\")};}else{ element.textContent = ' ';}"
      ],
      "text/plain": [
       "<IPython.core.display.Javascript object>"
      ]
     },
     "metadata": {},
     "output_type": "display_data"
    },
    {
     "name": "stdout",
     "output_type": "stream",
     "text": [
      "<0, 1.24511, 0>\r"
     ]
    }
   ],
   "source": [
    "scene = canvas()\n",
    "floor = box(size=vector(3,0.5,3), color=color.blue)\n",
    "ball = Mover()\n",
    "\n",
    "time = 0\n",
    "dt = 0.03\n",
    "\n",
    "g = vector(0, -9.78, 0)\n",
    "weight = g * ball.mass\n",
    "\n",
    "while time<100:\n",
    "    ball.force(weight)\n",
    "    ball.bounce()\n",
    "    ball.move(dt)\n",
    "    rate(1/dt)\n",
    "    print(ball.pos, end='\\r')\n",
    "    time += dt\n"
   ]
  }
 ],
 "metadata": {
  "kernelspec": {
   "display_name": "Python 3",
   "language": "python",
   "name": "python3"
  },
  "language_info": {
   "codemirror_mode": {
    "name": "ipython",
    "version": 3
   },
   "file_extension": ".py",
   "mimetype": "text/x-python",
   "name": "python",
   "nbconvert_exporter": "python",
   "pygments_lexer": "ipython3",
   "version": "3.7.7"
  }
 },
 "nbformat": 4,
 "nbformat_minor": 4
}
